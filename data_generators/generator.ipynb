{
 "cells": [
  {
   "cell_type": "code",
   "execution_count": 6,
   "metadata": {},
   "outputs": [],
   "source": [
    "import pandas"
   ]
  },
  {
   "cell_type": "code",
   "execution_count": 7,
   "metadata": {},
   "outputs": [
    {
     "name": "stdout",
     "output_type": "stream",
     "text": [
      "http://www.fantasypros.com/nfl/rankings/qb.php\n",
      "http://www.fantasypros.com/nfl/rankings/ppr-rb.php\n",
      "http://www.fantasypros.com/nfl/rankings/ppr-wr.php\n",
      "http://www.fantasypros.com/nfl/rankings/ppr-te.php\n",
      "http://www.fantasypros.com/nfl/rankings/dst.php\n"
     ]
    }
   ],
   "source": [
    "%run ../data_generators/get_fantasy_pros.ipynb"
   ]
  },
  {
   "cell_type": "code",
   "execution_count": 8,
   "metadata": {},
   "outputs": [
    {
     "data": {
      "text/html": [
       "<div>\n",
       "<style scoped>\n",
       "    .dataframe tbody tr th:only-of-type {\n",
       "        vertical-align: middle;\n",
       "    }\n",
       "\n",
       "    .dataframe tbody tr th {\n",
       "        vertical-align: top;\n",
       "    }\n",
       "\n",
       "    .dataframe thead th {\n",
       "        text-align: right;\n",
       "    }\n",
       "</style>\n",
       "<table border=\"1\" class=\"dataframe\">\n",
       "  <thead>\n",
       "    <tr style=\"text-align: right;\">\n",
       "      <th></th>\n",
       "      <th>player_name</th>\n",
       "      <th>salary</th>\n",
       "    </tr>\n",
       "  </thead>\n",
       "  <tbody>\n",
       "    <tr>\n",
       "      <th>0</th>\n",
       "      <td>christianmccaffrey</td>\n",
       "      <td>9000</td>\n",
       "    </tr>\n",
       "    <tr>\n",
       "      <th>2</th>\n",
       "      <td>a.j.brown</td>\n",
       "      <td>8800</td>\n",
       "    </tr>\n",
       "    <tr>\n",
       "      <th>4</th>\n",
       "      <td>jalenhurts</td>\n",
       "      <td>8200</td>\n",
       "    </tr>\n",
       "    <tr>\n",
       "      <th>5</th>\n",
       "      <td>cooperkupp</td>\n",
       "      <td>7800</td>\n",
       "    </tr>\n",
       "    <tr>\n",
       "      <th>7</th>\n",
       "      <td>devontasmith</td>\n",
       "      <td>7300</td>\n",
       "    </tr>\n",
       "    <tr>\n",
       "      <th>...</th>\n",
       "      <td>...</td>\n",
       "      <td>...</td>\n",
       "    </tr>\n",
       "    <tr>\n",
       "      <th>165</th>\n",
       "      <td>harrisonbryant</td>\n",
       "      <td>2500</td>\n",
       "    </tr>\n",
       "    <tr>\n",
       "      <th>167</th>\n",
       "      <td>hunterlong</td>\n",
       "      <td>2500</td>\n",
       "    </tr>\n",
       "    <tr>\n",
       "      <th>169</th>\n",
       "      <td>davisallen</td>\n",
       "      <td>2500</td>\n",
       "    </tr>\n",
       "    <tr>\n",
       "      <th>171</th>\n",
       "      <td>nikolakalinic</td>\n",
       "      <td>2500</td>\n",
       "    </tr>\n",
       "    <tr>\n",
       "      <th>173</th>\n",
       "      <td>zairemitchell-paden</td>\n",
       "      <td>2500</td>\n",
       "    </tr>\n",
       "  </tbody>\n",
       "</table>\n",
       "<p>96 rows × 2 columns</p>\n",
       "</div>"
      ],
      "text/plain": [
       "             player_name  salary\n",
       "0     christianmccaffrey    9000\n",
       "2              a.j.brown    8800\n",
       "4             jalenhurts    8200\n",
       "5             cooperkupp    7800\n",
       "7           devontasmith    7300\n",
       "..                   ...     ...\n",
       "165       harrisonbryant    2500\n",
       "167           hunterlong    2500\n",
       "169           davisallen    2500\n",
       "171        nikolakalinic    2500\n",
       "173  zairemitchell-paden    2500\n",
       "\n",
       "[96 rows x 2 columns]"
      ]
     },
     "metadata": {},
     "output_type": "display_data"
    }
   ],
   "source": [
    "%run ../data_generators/get_dk.ipynb"
   ]
  },
  {
   "cell_type": "code",
   "execution_count": 9,
   "metadata": {},
   "outputs": [],
   "source": [
    "week = input(\"Enter Week\")\n",
    "session = input(\"Enter session\")\n",
    "\n",
    "fp_df = pandas.read_csv('../backend/data/fantasy_pros.csv')\n",
    "salary_df = pandas.read_csv('../backend/data/dk.csv')\n",
    "\n",
    "complete_df = pandas.merge(fp_df, salary_df, how='left', left_on='player_name', right_on='player_name')\n",
    "\n",
    "complete_df.rename(columns = {'r2p_pts':'projected_points'}, inplace = True)\n",
    "complete_df.dropna(subset=['salary'], inplace=True)\n",
    "complete_df[\"projected_points\"].fillna(0, inplace = True)\n",
    "complete_df.to_csv(f\"../backend/data/week{week}_{session}.csv\", index=False)\n"
   ]
  },
  {
   "cell_type": "code",
   "execution_count": 10,
   "metadata": {},
   "outputs": [],
   "source": [
    "\n",
    "\n",
    "# complete_df.to_csv(f\"data/{date}_mid.csv\", index=False)"
   ]
  },
  {
   "cell_type": "code",
   "execution_count": null,
   "metadata": {},
   "outputs": [],
   "source": []
  }
 ],
 "metadata": {
  "kernelspec": {
   "display_name": "Python 3",
   "language": "python",
   "name": "python3"
  },
  "language_info": {
   "codemirror_mode": {
    "name": "ipython",
    "version": 3
   },
   "file_extension": ".py",
   "mimetype": "text/x-python",
   "name": "python",
   "nbconvert_exporter": "python",
   "pygments_lexer": "ipython3",
   "version": "3.11.6"
  },
  "orig_nbformat": 4
 },
 "nbformat": 4,
 "nbformat_minor": 2
}
