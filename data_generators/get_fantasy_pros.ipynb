{
 "cells": [
  {
   "cell_type": "code",
   "execution_count": 3,
   "metadata": {},
   "outputs": [],
   "source": [
    "import requests\n",
    "import pandas as pd\n",
    "import bs4\n",
    "import re\n",
    "import json"
   ]
  },
  {
   "cell_type": "code",
   "execution_count": 5,
   "metadata": {},
   "outputs": [
    {
     "name": "stdout",
     "output_type": "stream",
     "text": [
      "http://www.fantasypros.com/nfl/rankings/qb.php\n",
      "http://www.fantasypros.com/nfl/rankings/ppr-rb.php\n",
      "http://www.fantasypros.com/nfl/rankings/ppr-wr.php\n",
      "http://www.fantasypros.com/nfl/rankings/ppr-te.php\n",
      "http://www.fantasypros.com/nfl/rankings/dst.php\n"
     ]
    }
   ],
   "source": [
    "\n",
    "base_url = 'http://www.fantasypros.com/nfl/rankings'\n",
    "rankings_list = ['qb','ppr-rb', 'ppr-wr', 'ppr-te', 'dst']\n",
    "frames = []\n",
    "\n",
    "for page in rankings_list:\n",
    "\n",
    "    url = '%s/%s.php' % (base_url, page)\n",
    "    params = {\n",
    "        'week': 'draft',\n",
    "    }\n",
    "    print(url)\n",
    "    # Initialize final_df outside the loop if it doesn't exist\n",
    "    clean_df = pd.DataFrame()\n",
    "    response = requests.get(url)\n",
    "    soup = bs4.BeautifulSoup(response.text, \"html.parser\")\n",
    "    scripts = soup.find_all(\"script\")\n",
    "    for script in scripts:\n",
    "        if (script.string):\n",
    "            z = re.search(\"var ecrData = {.*};\", script.string)\n",
    "            if z:\n",
    "                temp = z.group(0).replace(\"var ecrData = \", \"\").replace(\";\", \"\")\n",
    "                data = json.loads(temp)\n",
    "                df=pd.json_normalize(data[\"players\"])\n",
    "                frames.append(df)                            \n",
    "                \n",
    "    final_df = pd.concat(frames)\n",
    "    final_df['player_name'] = final_df['player_name'].str.replace(r\"(?:I{1,3}|IV|V?I{0,3})\\s*$\", \" \", regex=True)\n",
    "    final_df['player_name'] = final_df['player_name'].str.replace(r\"(Jr|Sr)\\s*$\", \" \", regex=True)\n",
    "    final_df['player_name'] = final_df.player_name.str.lower().replace('\\s+', '', regex=True)\n",
    "\n",
    "    # Normalize team names\n",
    "    final_df = final_df.replace('sanfrancisco49ers', '49ers')\n",
    "    final_df = final_df.replace('dallascowboys', 'cowboys')\n",
    "    final_df = final_df.replace('philadelphiaeagles', 'eagles')\n",
    "    final_df = final_df.replace('buffalobills', 'bills')\n",
    "    final_df = final_df.replace('newyorkjets', 'jets')\n",
    "    final_df = final_df.replace('newenglandpatriots', 'patriots')\n",
    "    final_df = final_df.replace('baltimoreravens', 'ravens')\n",
    "    final_df = final_df.replace('denverbroncos', 'broncos')\n",
    "    final_df = final_df.replace('pittsburghsteelers', 'steelers')\n",
    "    final_df = final_df.replace('neworleanssaints', 'saints')\n",
    "    final_df = final_df.replace('kansascitychiefs', 'chiefs')\n",
    "    final_df = final_df.replace('miamidolphins', 'dolphins')\n",
    "    final_df = final_df.replace('washingtoncommanders', 'commanders')\n",
    "    final_df = final_df.replace('cincinnatibengals', 'bengals')\n",
    "    final_df = final_df.replace('clevelandbrowns', 'browns')\n",
    "    final_df = final_df.replace('greenbaypackers', 'packers')\n",
    "    final_df = final_df.replace('losangeleschargers', 'chargers')\n",
    "    final_df = final_df.replace('jacksonvillejaguars', 'jaguars')\n",
    "    final_df = final_df.replace('tampabaybuccaneers', 'buccaneers')\n",
    "    final_df = final_df.replace('seattleseahawks', 'seahawks')\n",
    "    final_df = final_df.replace('indianapoliscolts', 'colts')\n",
    "    final_df = final_df.replace('carolinapanthers', 'panthers')\n",
    "    final_df = final_df.replace('tennesseetitans', 'titans')\n",
    "    final_df = final_df.replace('newyorkgiants', 'giants')\n",
    "    final_df = final_df.replace('detroitlions', 'lions')\n",
    "    final_df = final_df.replace('losangelesrams', 'rams')\n",
    "    final_df = final_df.replace('minnesotavikings', 'vikings')\n",
    "    final_df = final_df.replace('atlantafalcons', 'falcons')\n",
    "    final_df = final_df.replace('arizonacardinals', 'cardinals')\n",
    "    final_df = final_df.replace('houstontexans', 'texans')\n",
    "    final_df = final_df.replace('chicagobears', 'bears')\n",
    "    final_df = final_df.replace('lasvegasraiders', 'raiders')\n",
    "\n",
    "    final_df = final_df.drop(['player_id', 'sportsdata_id', 'player_team_id', 'player_opponent', 'player_opponent_id', 'player_ecr_delta', 'start_sit_grade', 'player_positions', 'player_eligibility','rank_min', 'rank_max', 'rank_ave', 'rank_std', 'player_yahoo_positions', 'player_short_name', 'player_page_url', 'player_filename', 'player_square_image_url', 'player_image_url', 'player_yahoo_id', 'cbs_player_id', 'player_bye_week', 'player_owned_avg', 'player_owned_espn', 'player_owned_yahoo', \"note\", \"tag\", \"recommendation\"], axis=1)\n",
    "    final_df.to_csv(\"../data/fantasy_pros.csv\", index=False)\n"
   ]
  },
  {
   "cell_type": "code",
   "execution_count": null,
   "metadata": {},
   "outputs": [],
   "source": []
  }
 ],
 "metadata": {
  "kernelspec": {
   "display_name": "Python 3",
   "language": "python",
   "name": "python3"
  },
  "language_info": {
   "codemirror_mode": {
    "name": "ipython",
    "version": 3
   },
   "file_extension": ".py",
   "mimetype": "text/x-python",
   "name": "python",
   "nbconvert_exporter": "python",
   "pygments_lexer": "ipython3",
   "version": "3.11.5"
  },
  "orig_nbformat": 4
 },
 "nbformat": 4,
 "nbformat_minor": 2
}
