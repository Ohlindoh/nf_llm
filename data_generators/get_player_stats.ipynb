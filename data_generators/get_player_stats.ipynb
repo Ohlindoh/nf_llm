{
 "cells": [
  {
   "cell_type": "code",
   "execution_count": 20,
   "metadata": {},
   "outputs": [],
   "source": [
    "import requests\n",
    "import pandas as pd\n",
    "import bs4\n",
    "import re\n",
    "import json\n",
    "import logging"
   ]
  },
  {
   "cell_type": "code",
   "execution_count": 21,
   "metadata": {},
   "outputs": [],
   "source": [
    "logging.basicConfig(level=logging.INFO, format='%(asctime)s - %(levelname)s - %(message)s')"
   ]
  },
  {
   "cell_type": "code",
   "execution_count": 22,
   "metadata": {},
   "outputs": [
    {
     "name": "stderr",
     "output_type": "stream",
     "text": [
      "WARNING:root:No ecrData found in the HTML content\n",
      "ERROR:root:Failed to process QB data\n",
      "WARNING:root:No ecrData found in the HTML content\n",
      "ERROR:root:Failed to process RB data\n",
      "WARNING:root:No ecrData found in the HTML content\n",
      "ERROR:root:Failed to process WR data\n",
      "WARNING:root:No ecrData found in the HTML content\n",
      "ERROR:root:Failed to process TE data\n",
      "ERROR:root:No data to save\n"
     ]
    }
   ],
   "source": [
    "def fetch_fantasy_pros_data(url):\n",
    "    try:\n",
    "        response = requests.get(url)\n",
    "        response.raise_for_status()\n",
    "        return response.text\n",
    "    except requests.RequestException as e:\n",
    "        logging.error(f\"Error fetching data from {url}: {e}\")\n",
    "        return None\n",
    "\n",
    "def parse_fantasy_pros_data(html_content):\n",
    "    soup = bs4.BeautifulSoup(html_content, \"html.parser\")\n",
    "    scripts = soup.find_all(\"script\")\n",
    "    for script in scripts:\n",
    "        if script.string:\n",
    "            match = re.search(r\"var ecrData = ({.*?});\", script.string, re.DOTALL)\n",
    "            if match:\n",
    "                json_data = match.group(1)\n",
    "                return json.loads(json_data)\n",
    "    logging.warning(\"No ecrData found in the HTML content\")\n",
    "    return None\n",
    "\n",
    "def clean_player_name(name):\n",
    "    name = re.sub(r\"(?:I{1,3}|IV|V?I{0,3})\\s*$\", \" \", name)\n",
    "    name = re.sub(r\"(Jr|Sr)\\s*$\", \" \", name)\n",
    "    return name.strip().lower().replace(' ', '')\n",
    "\n",
    "def process_player_data(data, position):\n",
    "    if not data or 'players' not in data:\n",
    "        logging.error(\"Invalid data structure\")\n",
    "        return None\n",
    "\n",
    "    df = pd.DataFrame(data['players'])\n",
    "    \n",
    "    # Clean player names\n",
    "    df['player_name'] = df['player_name'].apply(clean_player_name)\n",
    "    \n",
    "    # Add position column\n",
    "    df['position'] = position\n",
    "    \n",
    "    return df\n",
    "\n",
    "def get_position_data(position):\n",
    "    url = f'https://www.fantasypros.com/nfl/stats/{position.lower()}.php'\n",
    "    html_content = fetch_fantasy_pros_data(url)\n",
    "    if html_content:\n",
    "        data = parse_fantasy_pros_data(html_content)\n",
    "        if data:\n",
    "            return process_player_data(data, position)\n",
    "    return None\n",
    "\n",
    "def main():\n",
    "    positions = ['QB', 'RB', 'WR', 'TE', 'DST'] \n",
    "    all_data = []\n",
    "\n",
    "    for position in positions:\n",
    "        position_data = get_position_data(position)\n",
    "        if position_data is not None:\n",
    "            all_data.append(position_data)\n",
    "            logging.info(f\"{position} data processed successfully\")\n",
    "        else:\n",
    "            logging.error(f\"Failed to process {position} data\")\n",
    "\n",
    "    if all_data:\n",
    "        combined_data = pd.concat(all_data, ignore_index=True)\n",
    "        combined_data.to_csv(\"../backend/data/fantasy_pros_stats.csv\", index=False)\n",
    "        logging.info(\"All stats saved to fantasy_pros_stats.csv\")\n",
    "        print(combined_data.head())\n",
    "    else:\n",
    "        logging.error(\"No data to save\")\n",
    "\n",
    "if __name__ == \"__main__\":\n",
    "    main()"
   ]
  }
 ],
 "metadata": {
  "kernelspec": {
   "display_name": "Python 3",
   "language": "python",
   "name": "python3"
  },
  "language_info": {
   "codemirror_mode": {
    "name": "ipython",
    "version": 3
   },
   "file_extension": ".py",
   "mimetype": "text/x-python",
   "name": "python",
   "nbconvert_exporter": "python",
   "pygments_lexer": "ipython3",
   "version": "3.8.5"
  }
 },
 "nbformat": 4,
 "nbformat_minor": 4
}
