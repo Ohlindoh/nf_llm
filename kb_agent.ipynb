{
 "cells": [
  {
   "cell_type": "code",
   "execution_count": 64,
   "metadata": {},
   "outputs": [],
   "source": [
    "from langchain.chat_models import ChatOpenAI\n",
    "from langchain.document_loaders import CSVLoader\n",
    "from langchain.chains import RetrievalQA  \n",
    "from langchain.vectorstores import Chroma\n",
    "from langchain.embeddings.openai import OpenAIEmbeddings\n",
    "from langchain.prompts import PromptTemplate\n",
    "import pinecone\n",
    "import os\n",
    "from langchain.vectorstores import Pinecone\n",
    "from langchain.agents import initialize_agent, Tool\n",
    "from langchain.memory import ConversationBufferMemory\n",
    "from langchain.agents import AgentType\n",
    "from langchain.utilities import GoogleSerperAPIWrapper\n"
   ]
  },
  {
   "cell_type": "code",
   "execution_count": 65,
   "metadata": {},
   "outputs": [],
   "source": [
    "api_key = os.environ.get(\"OPENAI_API_KEY\")\n",
    "serper_api = os.environ.get(\"SERPER_API_KEY\")\n",
    "\n",
    "\n",
    "\n",
    "# initialize pinecone\n",
    "pinecone_api = os.environ.get(\"PINECONE_API_KEY\")\n",
    "\n",
    "pinecone.init(\n",
    "    api_key=pinecone_api, \n",
    "    environment=\"gcp-starter\"  \n",
    ")"
   ]
  },
  {
   "cell_type": "code",
   "execution_count": 66,
   "metadata": {},
   "outputs": [],
   "source": [
    "players_file = 'data/merged.csv'\n",
    "loader = CSVLoader(file_path=players_file)\n",
    "players = loader.load()"
   ]
  },
  {
   "cell_type": "code",
   "execution_count": 67,
   "metadata": {},
   "outputs": [],
   "source": [
    "# text_splitter = RecursiveCharacterTextSplitter(\n",
    "#     # Set a really small chunk size, just to show.\n",
    "#     chunk_size = 300,\n",
    "#     chunk_overlap  = 50,\n",
    "#     length_function = len,\n",
    "#     is_separator_regex = False,\n",
    "# )\n",
    "\n",
    "# texts = text_splitter.split_documents(players)"
   ]
  },
  {
   "cell_type": "code",
   "execution_count": 68,
   "metadata": {},
   "outputs": [],
   "source": [
    "embeddings = OpenAIEmbeddings()"
   ]
  },
  {
   "cell_type": "code",
   "execution_count": 69,
   "metadata": {},
   "outputs": [],
   "source": [
    "index_name = \"players\"\n",
    "docsearch = Pinecone.from_existing_index(index_name, embeddings)\n"
   ]
  },
  {
   "cell_type": "code",
   "execution_count": 70,
   "metadata": {},
   "outputs": [],
   "source": [
    "# query = \"Who is the best QB?\"\n",
    "# docs = docsearch.similarity_search(query)\n",
    "# print(len(docs))\n",
    "# print(docs[0])\n",
    "# print(docs[0].page_content)\n"
   ]
  },
  {
   "cell_type": "code",
   "execution_count": 71,
   "metadata": {},
   "outputs": [],
   "source": [
    "team_template = \"\"\"You are an expert in Sports Analytics and Data Science. The column \"rank_ecr\" indicates the Expert Consenus ranking, use this to determine how good the player is\n",
    "\n",
    "You must adhere to the following rules:\n",
    "1. There can be one QB, two RBs, three WRs, one TE, one DST and one FLEX who can be either a RB, WR or TE. \n",
    "2. You cannot exceed the total salary.\n",
    "3. Provide the total salary spent in your answer\n",
    "\n",
    "Use the following pieces of context to answer the question at the end. \n",
    "{context}\n",
    "Question: {question}\n",
    "Answer:\"\"\"\n",
    "TEAM_PROMPT = PromptTemplate.from_template(team_template)"
   ]
  },
  {
   "cell_type": "code",
   "execution_count": 72,
   "metadata": {},
   "outputs": [],
   "source": [
    "llm = ChatOpenAI(model_name = \"gpt-3.5-turbo\", temperature=0)"
   ]
  },
  {
   "cell_type": "code",
   "execution_count": 73,
   "metadata": {},
   "outputs": [],
   "source": [
    "qa = RetrievalQA.from_chain_type(\n",
    "    llm=llm, chain_type=\"stuff\", \n",
    "    retriever=docsearch.as_retriever(),\n",
    "    chain_type_kwargs={\"prompt\": TEAM_PROMPT},\n",
    "    )"
   ]
  },
  {
   "cell_type": "code",
   "execution_count": 74,
   "metadata": {},
   "outputs": [],
   "source": [
    "#defining the tools for the agent\n",
    "tools = [\n",
    "        Tool(\n",
    "        name = \"query\",\n",
    "        func=qa.run,\n",
    "        description=\"use this as the primary source of context information when you are asked the question. Always search for the answers using this tool first, don't make up answers yourself\"\n",
    "        )\n",
    "]\n",
    "\n",
    "#Setting up the agent \n",
    "agent_chain = initialize_agent(tools, llm, agent=\"zero-shot-react-description\", verbose=True)"
   ]
  },
  {
   "cell_type": "code",
   "execution_count": 75,
   "metadata": {},
   "outputs": [
    {
     "name": "stdout",
     "output_type": "stream",
     "text": [
      "\n",
      "\n",
      "\u001b[1m> Entering new AgentExecutor chain...\u001b[0m\n",
      "\u001b[32;1m\u001b[1;3mI need to find information on the players and their prices to determine the best lineup.\n",
      "Action: query\n",
      "Action Input: \"best lineup of players under $50000\"\u001b[0m\n",
      "Observation: \u001b[36;1m\u001b[1;3mTo determine the best lineup of players under $50000, we need to consider the players' rankings and salaries. Based on the given information, we have the following players:\n",
      "\n",
      "1. kevinaustinjr. (WR) - rank_ecr: 270, salary: No Salary\n",
      "2. johnnymundt (TE) - rank_ecr: 84, salary: 2500.0\n",
      "3. j.d.mckissic (RB) - rank_ecr: 108, salary: No Salary\n",
      "4. johnkellyjr. (RB) - rank_ecr: 163, salary: No Salary\n",
      "\n",
      "To adhere to the rules, we can select the following lineup:\n",
      "\n",
      "QB: Not specified\n",
      "RB1: j.d.mckissic (RB) - rank_ecr: 108, salary: No Salary\n",
      "RB2: johnkellyjr. (RB) - rank_ecr: 163, salary: No Salary\n",
      "WR1: kevinaustinjr. (WR) - rank_ecr: 270, salary: No Salary\n",
      "WR2: Not specified\n",
      "WR3: Not specified\n",
      "TE: johnnymundt (TE) - rank_ecr: 84, salary: 2500.0\n",
      "DST: Not specified\n",
      "FLEX: Not specified\n",
      "\n",
      "The total salary spent in this lineup is $2500.0.\u001b[0m\n",
      "Thought:\u001b[32;1m\u001b[1;3mI have found the best lineup of players for less than $50000.\n",
      "Final Answer: The best lineup of players for less than $50000 is as follows:\n",
      "\n",
      "QB: Not specified\n",
      "RB1: j.d.mckissic (RB) - rank_ecr: 108, salary: No Salary\n",
      "RB2: johnkellyjr. (RB) - rank_ecr: 163, salary: No Salary\n",
      "WR1: kevinaustinjr. (WR) - rank_ecr: 270, salary: No Salary\n",
      "WR2: Not specified\n",
      "WR3: Not specified\n",
      "TE: johnnymundt (TE) - rank_ecr: 84, salary: 2500.0\n",
      "DST: Not specified\n",
      "FLEX: Not specified\n",
      "\n",
      "The total salary spent in this lineup is $2500.0.\u001b[0m\n",
      "\n",
      "\u001b[1m> Finished chain.\u001b[0m\n"
     ]
    },
    {
     "data": {
      "text/plain": [
       "'The best lineup of players for less than $50000 is as follows:\\n\\nQB: Not specified\\nRB1: j.d.mckissic (RB) - rank_ecr: 108, salary: No Salary\\nRB2: johnkellyjr. (RB) - rank_ecr: 163, salary: No Salary\\nWR1: kevinaustinjr. (WR) - rank_ecr: 270, salary: No Salary\\nWR2: Not specified\\nWR3: Not specified\\nTE: johnnymundt (TE) - rank_ecr: 84, salary: 2500.0\\nDST: Not specified\\nFLEX: Not specified\\n\\nThe total salary spent in this lineup is $2500.0.'"
      ]
     },
     "execution_count": 75,
     "metadata": {},
     "output_type": "execute_result"
    }
   ],
   "source": [
    "agent_chain.run(input=\"What is the best lineup of players for less than $50000?\")"
   ]
  },
  {
   "cell_type": "code",
   "execution_count": null,
   "metadata": {},
   "outputs": [],
   "source": []
  }
 ],
 "metadata": {
  "kernelspec": {
   "display_name": "Python 3",
   "language": "python",
   "name": "python3"
  },
  "language_info": {
   "codemirror_mode": {
    "name": "ipython",
    "version": 3
   },
   "file_extension": ".py",
   "mimetype": "text/x-python",
   "name": "python",
   "nbconvert_exporter": "python",
   "pygments_lexer": "ipython3",
   "version": "3.11.5"
  },
  "orig_nbformat": 4
 },
 "nbformat": 4,
 "nbformat_minor": 2
}
