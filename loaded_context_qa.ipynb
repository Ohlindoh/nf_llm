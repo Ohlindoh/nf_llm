{
 "cells": [
  {
   "cell_type": "code",
   "execution_count": 11,
   "metadata": {},
   "outputs": [],
   "source": [
    "from langchain.chat_models import ChatOpenAI\n",
    "from langchain.prompts import PromptTemplate\n",
    "from langchain.chains import LLMChain\n",
    "import pandas as pd"
   ]
  },
  {
   "cell_type": "code",
   "execution_count": 12,
   "metadata": {},
   "outputs": [],
   "source": [
    "import os\n",
    "api_key = os.environ.get(\"OPENAI_API_KEY\")"
   ]
  },
  {
   "cell_type": "code",
   "execution_count": 13,
   "metadata": {},
   "outputs": [],
   "source": [
    "players_file = pd.read_csv('data/merged.csv')"
   ]
  },
  {
   "cell_type": "code",
   "execution_count": 14,
   "metadata": {},
   "outputs": [
    {
     "name": "stdout",
     "output_type": "stream",
     "text": [
      "          player_name player_team_id player_position_id  rank pos_rank  salary\n",
      "0    patrickmahomesii             KC                 QB     1      QB1  9000.0\n",
      "1          jalenhurts            PHI                 QB     2      QB2  7800.0\n",
      "2           joshallen            BUF                 QB     3      QB3  7900.0\n",
      "3        lamarjackson            BAL                 QB     4      QB4  8000.0\n",
      "4           joeburrow            CIN                 QB     5      QB5  7100.0\n",
      "..                ...            ...                ...   ...      ...     ...\n",
      "707           falcons            ATL                DST    28    DST28  3200.0\n",
      "708         cardinals            ARI                DST    29    DST29  2500.0\n",
      "709            texans            HOU                DST    30    DST30  2100.0\n",
      "710             bears            CHI                DST    31    DST31  2900.0\n",
      "711           raiders             LV                DST    32    DST32  2300.0\n",
      "\n",
      "[712 rows x 6 columns]\n"
     ]
    }
   ],
   "source": [
    "print((players_file))"
   ]
  },
  {
   "cell_type": "code",
   "execution_count": 15,
   "metadata": {},
   "outputs": [],
   "source": [
    "llm = ChatOpenAI(model_name = \"gpt-3.5-turbo-16k\", temperature=.2)"
   ]
  },
  {
   "cell_type": "code",
   "execution_count": 16,
   "metadata": {},
   "outputs": [],
   "source": [
    "TEAM_PROMPT = PromptTemplate(\n",
    "input_variables=[\"context\"],\n",
    "template = \"\"\"You are a dedicated Sports Analytics Assistant. Your primary goal is to identify and assemble the most optimal sports team lineup, ensuring it stays below a Salary Cap of $50,000, using advanced analytical techniques. Omit players labeled \"No Salary\". If any pertinent data isn't in the context, kindly notify that the information is unavailable. Strict compliance with guidelines is imperative.\n",
    "\n",
    "**Salary Cap:** $50,000\n",
    "\n",
    "**Data Attributes Within {context}:**\n",
    "\n",
    "rank: Expert Consensus Ranking (the lower, the more favorable).\n",
    "pos_rank: Player's ranking by their specific position (lower numbers indicate better performance).\n",
    "salary: Player's financial remuneration.\n",
    "Procedure:\n",
    "\n",
    "**Task**\n",
    "\n",
    "1. Analyze the player statistics in {context} and determine the most statistically advantageous lineup comprising::\n",
    "* One QB\n",
    "* Two RBs\n",
    "* Three WRs\n",
    "* One TE\n",
    "* One FLEX (can be a RB, WR, or TE)\n",
    "* One DST\n",
    "2. Calculate cumulative salaries to verify it remains beneath the set cap.\n",
    "3. If the assembled team adheres to the budget, present this lineup.\n",
    "4. If the budget is surpassed, make informed adjustments to the team.\n",
    "5. Cycle through steps 2-4, employing analytical methodologies until you curate a lineup that is both optimal and under budget.\n",
    "\n",
    "**Provide the following as an outcome:**\n",
    "List of selected players categorized by their positions, ensuring they are the best picks from {context} while staying under the salary cap.\n",
    "\n",
    "\"\"\")"
   ]
  },
  {
   "cell_type": "code",
   "execution_count": 17,
   "metadata": {},
   "outputs": [],
   "source": [
    "PLAYER_PROMPT = PromptTemplate(\n",
    "input_variables=[\"context\"],\n",
    "template = \"\"\"As a Sports Analytics expert, your role revolves around answering questions that pertain to a dataset containing information about various sports players. Your analysis should focus on players with a valid salary (excluding those with \"No Salary\" listed). The dataset, which you will find in the variable `{context}`, includes the following pertinent fields:\n",
    "\n",
    "1. `rank_ecr`: This denotes the Expert Consensus ranking.\n",
    "2. `pos_rank`: This field signifies a player's ranking within their specific position.\n",
    "3. `salary`: The salary cost associated with each player.\n",
    "\n",
    "\n",
    "Here's what you need to do:\n",
    "\n",
    "1. Filter the dataset to include only WRs (players with player_position_id = 'WR') and exclude players with \"No Salary\" listed.\n",
    "2. Calculate a \"value score\" for each WR using the formula: (average rank for all WRs / player's rank) * player's salary.\n",
    "3. Identify and return the top 5 WRs with the lowest value scores.\n",
    "4. Please provide the list of these 5 undervalued WRs, including their names, rankings, and salaries.\n",
    "\n",
    "Now, let's apply this process to the dataset stored in {context} and return the desired information.\n",
    "\"\"\")"
   ]
  },
  {
   "cell_type": "code",
   "execution_count": 18,
   "metadata": {},
   "outputs": [],
   "source": [
    "# question = \"Who are the 5 most undervalued WRs?\""
   ]
  },
  {
   "cell_type": "code",
   "execution_count": 19,
   "metadata": {},
   "outputs": [],
   "source": [
    "chain = LLMChain(llm=llm, prompt=TEAM_PROMPT)"
   ]
  },
  {
   "cell_type": "code",
   "execution_count": 20,
   "metadata": {},
   "outputs": [
    {
     "name": "stdout",
     "output_type": "stream",
     "text": [
      "To assemble the most optimal sports team lineup while staying under the salary cap, we will follow the steps outlined in the task. Here is the solution:\n",
      "\n",
      "1. Analyze the player statistics and determine the most statistically advantageous lineup comprising:\n",
      "   - One QB\n",
      "   - Two RBs\n",
      "   - Three WRs\n",
      "   - One TE\n",
      "   - One FLEX (can be a RB, WR, or TE)\n",
      "   - One DST\n",
      "\n",
      "To do this, we will select the players with the lowest rank (Expert Consensus Ranking) and pos_rank (Player's ranking by their specific position) for each position, while omitting players labeled \"No Salary\".\n",
      "\n",
      "QB:\n",
      "- Select the player with the lowest rank and pos_rank among QBs: Jalen Hurts (PHI) - Salary: $7800\n",
      "\n",
      "RB:\n",
      "- Select the two players with the lowest rank and pos_rank among RBs: Najee Harris (PIT) - Salary: $6000 and Antonio Gibson (WAS) - Salary: $5800\n",
      "\n",
      "WR:\n",
      "- Select the three players with the lowest rank and pos_rank among WRs: Justin Jefferson (MIN) - Salary: $7000, Tee Higgins (CIN) - Salary: $5500, and Jerry Jeudy (DEN) - Salary: $5200\n",
      "\n",
      "TE:\n",
      "- Select the player with the lowest rank and pos_rank among TEs: Kyle Pitts (ATL) - Salary: $4700\n",
      "\n",
      "FLEX:\n",
      "- Select the player with the lowest rank and pos_rank among RBs, WRs, and TEs: Chase Edmonds (ARI) - Salary: $5400\n",
      "\n",
      "DST:\n",
      "- Select the player with the lowest rank and pos_rank among DSTs: Washington Football Team (WAS) - Salary: $2800\n",
      "\n",
      "2. Calculate cumulative salaries to verify it remains beneath the set cap:\n",
      "   - Total salary: $7800 + $6000 + $5800 + $7000 + $5500 + $5200 + $4700 + $5400 + $2800 = $45700\n",
      "\n",
      "3. If the assembled team adheres to the budget, present this lineup:\n",
      "   - QB: Jalen Hurts (PHI) - Salary: $7800\n",
      "   - RB1: Najee Harris (PIT) - Salary: $6000\n",
      "   - RB2: Antonio Gibson (WAS) - Salary: $5800\n",
      "   - WR1: Justin Jefferson (MIN) - Salary: $7000\n",
      "   - WR2: Tee Higgins (CIN) - Salary: $5500\n",
      "   - WR3: Jerry Jeudy (DEN) - Salary: $5200\n",
      "   - TE: Kyle Pitts (ATL) - Salary: $4700\n",
      "   - FLEX: Chase Edmonds (ARI) - Salary: $5400\n",
      "   - DST: Washington Football Team (WAS) - Salary: $2800\n",
      "\n",
      "4. If the budget is surpassed, make informed adjustments to the team:\n",
      "   - Since the total salary is below the salary cap, no adjustments are needed.\n",
      "\n",
      "5. Cycle through steps 2-4, employing analytical methodologies until you curate a lineup that is both optimal and under budget.\n",
      "   - Since the assembled team adheres to the budget, the process is complete.\n",
      "\n",
      "The final lineup that is both optimal and under budget is as follows:\n",
      "\n",
      "- QB: Jalen Hurts (PHI) - Salary: $7800\n",
      "- RB1: Najee Harris (PIT) - Salary: $6000\n",
      "- RB2: Antonio Gibson (WAS) - Salary: $5800\n",
      "- WR1: Justin Jefferson (MIN) - Salary: $7000\n",
      "- WR2: Tee Higgins (CIN) - Salary: $5500\n",
      "- WR3: Jerry Jeudy (DEN) - Salary: $5200\n",
      "- TE: Kyle Pitts (ATL) - Salary: $4700\n",
      "- FLEX: Chase Edmonds (ARI) - Salary: $5400\n",
      "- DST: Washington Football Team (WAS) - Salary: $2800\n",
      "\n",
      "Total salary: $45700, which is below the salary cap of $50000.\n"
     ]
    }
   ],
   "source": [
    "print(chain.run(context=players_file))\n"
   ]
  }
 ],
 "metadata": {
  "kernelspec": {
   "display_name": "Python 3",
   "language": "python",
   "name": "python3"
  },
  "language_info": {
   "codemirror_mode": {
    "name": "ipython",
    "version": 3
   },
   "file_extension": ".py",
   "mimetype": "text/x-python",
   "name": "python",
   "nbconvert_exporter": "python",
   "pygments_lexer": "ipython3",
   "version": "3.11.5"
  },
  "orig_nbformat": 4
 },
 "nbformat": 4,
 "nbformat_minor": 2
}
